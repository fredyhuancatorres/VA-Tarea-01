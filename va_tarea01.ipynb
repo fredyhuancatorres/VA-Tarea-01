{
  "nbformat": 4,
  "nbformat_minor": 0,
  "metadata": {
    "colab": {
      "provenance": [],
      "authorship_tag": "ABX9TyMawcuiGN9GJgqF6GZhJ9j4",
      "include_colab_link": true
    },
    "kernelspec": {
      "name": "python3",
      "display_name": "Python 3"
    },
    "language_info": {
      "name": "python"
    }
  },
  "cells": [
    {
      "cell_type": "markdown",
      "metadata": {
        "id": "view-in-github",
        "colab_type": "text"
      },
      "source": [
        "<a href=\"https://colab.research.google.com/github/fredyhuancatorres/VA-Tarea-01/blob/main/va_tarea01.ipynb\" target=\"_parent\"><img src=\"https://colab.research.google.com/assets/colab-badge.svg\" alt=\"Open In Colab\"/></a>"
      ]
    },
    {
      "cell_type": "markdown",
      "source": [
        "# **PROCESAMIENTO DE IMÁGENES**\n",
        "\n",
        "\n"
      ],
      "metadata": {
        "id": "1uO5YilYoSBt"
      }
    },
    {
      "cell_type": "markdown",
      "source": [
        "#PREGUNTA 01: Ecualización\n",
        "\n",
        "Transformaciones del histograma:\n",
        "- Definir histograma\n",
        "- Calcular histograma\n",
        "- Retornar histograma\n",
        "- Función ... de histograma\n",
        "- Normalizar histograma\n",
        "- Distribuir máximo y mínimo\n",
        "- Obtener la ecualización\n",
        "\n",
        "Objetivo: Realizar la función ecualizar"
      ],
      "metadata": {
        "id": "dYQB1c4noLZq"
      }
    },
    {
      "cell_type": "code",
      "execution_count": null,
      "metadata": {
        "id": "0WgGY1uOnULY"
      },
      "outputs": [],
      "source": []
    }
  ]
}